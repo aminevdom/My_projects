{
 "cells": [
  {
   "cell_type": "code",
   "execution_count": null,
   "metadata": {},
   "outputs": [],
   "source": [
    "#Описание задачи\n",
    "#Вашей команде поручили заняться разработкой сервиса для автоматического отлова ботов и предотвращения DDoS-атак. \n",
    "#Для регистрации на сайте необходимо указать email-адрес. Не всегда указанный набор символов является корректным email.\n",
    "\n",
    "#Вашему коллеге-стажёру поручили выполнить это маленькое задание, в результате разработан код, приведённый ниже:\n",
    "\n",
    "import re\n",
    "from typing import List\n",
    "\n",
    "\n",
    "def valid_emails(strings: List[str]) -> List[str]:\n",
    "    \"\"\"Take list of potential emails and returns only valid ones\"\"\"\n",
    "\n",
    "    valid_email_regex = r\"^[a-zA-Z0-9_.+-]+@[a-zA-Z0-9-]+\\.[a-zA-Z0-9-.]+$\"\n",
    "\n",
    "    def is_valid_email(email: str) -> bool:\n",
    "        return bool(re.fullmatch(valid_email_regex, email))\n",
    "\n",
    "    emails = []\n",
    "    for email in strings:\n",
    "        if is_valid_email(email):\n",
    "            emails.append(email)\n",
    "\n",
    "    return emails\n",
    "\n",
    "#Код работает корректно и полностью решает задачу, однако когда ваш TeamLead ревьюил код, то оставил комментарий, \n",
    "#что его можно ускорить минимум в 2 раза, буквально поменяв две строчки. Однако он не сказал, как – лишь оставил \n",
    "#ссылку на страницу про регулярные выражения в Python в качестве подсказки. \n",
    "\n",
    "#Решение:\n",
    "\n",
    "def valid_emails(strings: List[str]) -> List[str]:\n",
    "    \"\"\"Take list of potential emails and returns only valid ones\"\"\"\n",
    "\n",
    "    valid_email_regex = re.compile(r\"^[a-zA-Z0-9_.+-]+@[a-zA-Z0-9-]+\\.[a-zA-Z0-9-.]+$\")\n",
    "\n",
    "    def is_valid_email(email: str) -> bool:\n",
    "        return bool(valid_email_regex.fullmatch(email))\n",
    "\n",
    "    emails = list(filter(is_valid_email, strings))\n",
    "\n",
    "    return emails"
   ]
  }
 ],
 "metadata": {
  "kernelspec": {
   "display_name": "Python 3.8.10 64-bit",
   "language": "python",
   "name": "python3"
  },
  "language_info": {
   "codemirror_mode": {
    "name": "ipython",
    "version": 3
   },
   "file_extension": ".py",
   "mimetype": "text/x-python",
   "name": "python",
   "nbconvert_exporter": "python",
   "pygments_lexer": "ipython3",
   "version": "3.8.10"
  },
  "orig_nbformat": 4,
  "vscode": {
   "interpreter": {
    "hash": "e78e8625a98355611cd18a3dc38d03262bcf0c917fc3cd98076089b1feb6d1e4"
   }
  }
 },
 "nbformat": 4,
 "nbformat_minor": 2
}
